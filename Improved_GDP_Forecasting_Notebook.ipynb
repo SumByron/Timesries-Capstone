{
 "cells": [
  {
   "cell_type": "markdown",
   "id": "a0c53ecf",
   "metadata": {},
   "source": [
    "# 📈 Time Series Forecasting: Real GDP of Kenya\n",
    "This notebook follows the complete time series forecasting process as outlined in the Capstone Project Guide. The target indicator is **Real GDP (constant 2015 US$)** for Kenya, sourced via the **World Bank API**.\n"
   ]
  },
  {
   "cell_type": "markdown",
   "id": "f2861dcc",
   "metadata": {},
   "source": [
    "## 🌐 Data Acquisition\n",
    "We fetch Real GDP data from the World Bank API (`NY.GDP.MKTP.KD`)."
   ]
  },
  {
   "cell_type": "code",
   "execution_count": null,
   "id": "3d971d99",
   "metadata": {},
   "outputs": [],
   "source": [
    "import pandas as pd\n",
    "import requests\n",
    "\n",
    "# API endpoint for Real GDP (constant 2015 US$)\n",
    "url = 'http://api.worldbank.org/v2/country/KE/indicator/NY.GDP.MKTP.KD?format=json&per_page=1000'\n",
    "response = requests.get(url)\n",
    "data = response.json()\n",
    "records = data[1]\n",
    "\n",
    "# Convert to DataFrame\n",
    "df = pd.DataFrame(records)[['date', 'value']].dropna()\n",
    "df.columns = ['Year', 'Real_GDP']\n",
    "df['Year'] = pd.to_datetime(df['Year'], format='%Y')\n",
    "df.set_index('Year', inplace=True)\n",
    "df.sort_index(inplace=True)\n",
    "df.head()"
   ]
  },
  {
   "cell_type": "markdown",
   "id": "b807dcde",
   "metadata": {},
   "source": [
    "## 🧹 Preprocessing\n",
    "- Convert `Year` to datetime format\n",
    "- Set it as the index\n",
    "- Clean missing values"
   ]
  },
  {
   "cell_type": "markdown",
   "id": "389afe31",
   "metadata": {},
   "source": [
    "## 📊 Exploratory Data Analysis (EDA)\n",
    "We explore trends, check for stationarity, and visualize components."
   ]
  },
  {
   "cell_type": "code",
   "execution_count": null,
   "id": "00701f43",
   "metadata": {},
   "outputs": [],
   "source": [
    "import matplotlib.pyplot as plt\n",
    "from statsmodels.tsa.seasonal import seasonal_decompose\n",
    "from statsmodels.tsa.stattools import adfuller\n",
    "\n",
    "# Plot GDP trend\n",
    "df.plot(figsize=(12, 6), title='Kenya Real GDP (constant 2015 US$)')\n",
    "plt.grid(True)\n",
    "plt.show()\n",
    "\n",
    "# Decompose trend and seasonality\n",
    "decomposition = seasonal_decompose(df['Real_GDP'], model='additive', period=4)\n",
    "decomposition.plot()\n",
    "plt.tight_layout()\n",
    "plt.show()\n",
    "\n",
    "# ADF Test\n",
    "result = adfuller(df['Real_GDP'])\n",
    "print(\"ADF Statistic:\", result[0])\n",
    "print(\"p-value:\", result[1])\n",
    "for key, value in result[4].items():\n",
    "    print(f\"Critical Value ({key}): {value}\")"
   ]
  },
  {
   "cell_type": "markdown",
   "id": "e650509d",
   "metadata": {},
   "source": [
    "## 🔁 Differencing to Achieve Stationarity (if required)"
   ]
  },
  {
   "cell_type": "code",
   "execution_count": null,
   "id": "7875ebab",
   "metadata": {},
   "outputs": [],
   "source": [
    "df_diff = df.diff().dropna()\n",
    "df_diff.plot(figsize=(12, 5), title='First-order Differenced GDP')\n",
    "plt.grid(True)\n",
    "plt.show()"
   ]
  },
  {
   "cell_type": "markdown",
   "id": "6dc8adbd",
   "metadata": {},
   "source": [
    "## 🤖 ARIMA Forecasting"
   ]
  },
  {
   "cell_type": "code",
   "execution_count": null,
   "id": "45f4597f",
   "metadata": {},
   "outputs": [],
   "source": [
    "from statsmodels.tsa.arima.model import ARIMA\n",
    "\n",
    "model_arima = ARIMA(df['Real_GDP'], order=(1, 1, 1))\n",
    "model_fit = model_arima.fit()\n",
    "\n",
    "forecast_steps = 10\n",
    "forecast_arima = model_fit.forecast(steps=forecast_steps)\n",
    "forecast_index = pd.date_range(start=df.index[-1] + pd.DateOffset(years=1), periods=forecast_steps, freq='Y')\n",
    "\n",
    "forecast_df = pd.DataFrame({'Forecasted GDP': forecast_arima}, index=forecast_index)\n",
    "\n",
    "plt.figure(figsize=(12, 6))\n",
    "plt.plot(df, label='Historical GDP')\n",
    "plt.plot(forecast_df, label='ARIMA Forecast', color='red')\n",
    "plt.title('ARIMA GDP Forecast')\n",
    "plt.legend()\n",
    "plt.grid(True)\n",
    "plt.tight_layout()\n",
    "plt.show()"
   ]
  },
  {
   "cell_type": "markdown",
   "id": "d7d48e2f",
   "metadata": {},
   "source": [
    "## 🔮 Prophet Forecasting"
   ]
  },
  {
   "cell_type": "code",
   "execution_count": null,
   "id": "31c5bca8",
   "metadata": {},
   "outputs": [],
   "source": [
    "from prophet import Prophet\n",
    "\n",
    "df_prophet = df.reset_index().rename(columns={'Year': 'ds', 'Real_GDP': 'y'})\n",
    "model = Prophet()\n",
    "model.fit(df_prophet)\n",
    "\n",
    "future = model.make_future_dataframe(periods=10, freq='Y')\n",
    "forecast = model.predict(future)\n",
    "\n",
    "fig = model.plot(forecast)\n",
    "plt.title(\"Prophet GDP Forecast\")\n",
    "plt.show()"
   ]
  },
  {
   "cell_type": "markdown",
   "id": "0af6b329",
   "metadata": {},
   "source": [
    "## 🌐 Streamlit Integration (Optional)\n",
    "This notebook can be adapted into a Streamlit app. Provide user options for forecast horizon and interactive plots."
   ]
  },
  {
   "cell_type": "markdown",
   "id": "78df3fd1",
   "metadata": {},
   "source": [
    "## ✅ Conclusion\n",
    "- Real GDP shows consistent growth over the decades.\n",
    "- Both ARIMA and Prophet offer reasonable forecasts.\n",
    "- Further tuning and economic context analysis are recommended."
   ]
  }
 ],
 "metadata": {},
 "nbformat": 4,
 "nbformat_minor": 5
}
